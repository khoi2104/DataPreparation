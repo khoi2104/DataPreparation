{
 "cells": [
  {
   "cell_type": "code",
   "execution_count": 2,
   "id": "da1f0a90",
   "metadata": {},
   "outputs": [],
   "source": [
    "import pandas as pd \n"
   ]
  },
  {
   "cell_type": "code",
   "execution_count": 3,
   "id": "93541536",
   "metadata": {},
   "outputs": [
    {
     "data": {
      "text/html": [
       "<div>\n",
       "<style scoped>\n",
       "    .dataframe tbody tr th:only-of-type {\n",
       "        vertical-align: middle;\n",
       "    }\n",
       "\n",
       "    .dataframe tbody tr th {\n",
       "        vertical-align: top;\n",
       "    }\n",
       "\n",
       "    .dataframe thead th {\n",
       "        text-align: right;\n",
       "    }\n",
       "</style>\n",
       "<table border=\"1\" class=\"dataframe\">\n",
       "  <thead>\n",
       "    <tr style=\"text-align: right;\">\n",
       "      <th></th>\n",
       "      <th>alert</th>\n",
       "      <th>cdi</th>\n",
       "      <th>code</th>\n",
       "      <th>detail</th>\n",
       "      <th>dmin</th>\n",
       "      <th>felt</th>\n",
       "      <th>gap</th>\n",
       "      <th>ids</th>\n",
       "      <th>mag</th>\n",
       "      <th>magType</th>\n",
       "      <th>...</th>\n",
       "      <th>sources</th>\n",
       "      <th>status</th>\n",
       "      <th>time</th>\n",
       "      <th>title</th>\n",
       "      <th>tsunami</th>\n",
       "      <th>type</th>\n",
       "      <th>types</th>\n",
       "      <th>tz</th>\n",
       "      <th>updated</th>\n",
       "      <th>url</th>\n",
       "    </tr>\n",
       "  </thead>\n",
       "  <tbody>\n",
       "    <tr>\n",
       "      <th>0</th>\n",
       "      <td>NaN</td>\n",
       "      <td>NaN</td>\n",
       "      <td>37389218</td>\n",
       "      <td>https://earthquake.usgs.gov/fdsnws/event/1/que...</td>\n",
       "      <td>0.008693</td>\n",
       "      <td>NaN</td>\n",
       "      <td>85.0</td>\n",
       "      <td>,ci37389218,</td>\n",
       "      <td>1.35</td>\n",
       "      <td>ml</td>\n",
       "      <td>...</td>\n",
       "      <td>,ci,</td>\n",
       "      <td>automatic</td>\n",
       "      <td>1539475168010</td>\n",
       "      <td>M 1.4 - 9km NE of Aguanga, CA</td>\n",
       "      <td>0</td>\n",
       "      <td>earthquake</td>\n",
       "      <td>,geoserve,nearby-cities,origin,phase-data,</td>\n",
       "      <td>-480.0</td>\n",
       "      <td>1539475395144</td>\n",
       "      <td>https://earthquake.usgs.gov/earthquakes/eventp...</td>\n",
       "    </tr>\n",
       "    <tr>\n",
       "      <th>1</th>\n",
       "      <td>NaN</td>\n",
       "      <td>NaN</td>\n",
       "      <td>37389202</td>\n",
       "      <td>https://earthquake.usgs.gov/fdsnws/event/1/que...</td>\n",
       "      <td>0.020030</td>\n",
       "      <td>NaN</td>\n",
       "      <td>79.0</td>\n",
       "      <td>,ci37389202,</td>\n",
       "      <td>1.29</td>\n",
       "      <td>ml</td>\n",
       "      <td>...</td>\n",
       "      <td>,ci,</td>\n",
       "      <td>automatic</td>\n",
       "      <td>1539475129610</td>\n",
       "      <td>M 1.3 - 9km NE of Aguanga, CA</td>\n",
       "      <td>0</td>\n",
       "      <td>earthquake</td>\n",
       "      <td>,geoserve,nearby-cities,origin,phase-data,</td>\n",
       "      <td>-480.0</td>\n",
       "      <td>1539475253925</td>\n",
       "      <td>https://earthquake.usgs.gov/earthquakes/eventp...</td>\n",
       "    </tr>\n",
       "    <tr>\n",
       "      <th>2</th>\n",
       "      <td>NaN</td>\n",
       "      <td>4.4</td>\n",
       "      <td>37389194</td>\n",
       "      <td>https://earthquake.usgs.gov/fdsnws/event/1/que...</td>\n",
       "      <td>0.021370</td>\n",
       "      <td>28.0</td>\n",
       "      <td>21.0</td>\n",
       "      <td>,ci37389194,</td>\n",
       "      <td>3.42</td>\n",
       "      <td>ml</td>\n",
       "      <td>...</td>\n",
       "      <td>,ci,</td>\n",
       "      <td>automatic</td>\n",
       "      <td>1539475062610</td>\n",
       "      <td>M 3.4 - 8km NE of Aguanga, CA</td>\n",
       "      <td>0</td>\n",
       "      <td>earthquake</td>\n",
       "      <td>,dyfi,focal-mechanism,geoserve,nearby-cities,o...</td>\n",
       "      <td>-480.0</td>\n",
       "      <td>1539536756176</td>\n",
       "      <td>https://earthquake.usgs.gov/earthquakes/eventp...</td>\n",
       "    </tr>\n",
       "  </tbody>\n",
       "</table>\n",
       "<p>3 rows × 26 columns</p>\n",
       "</div>"
      ],
      "text/plain": [
       "  alert  cdi      code                                             detail  \\\n",
       "0   NaN  NaN  37389218  https://earthquake.usgs.gov/fdsnws/event/1/que...   \n",
       "1   NaN  NaN  37389202  https://earthquake.usgs.gov/fdsnws/event/1/que...   \n",
       "2   NaN  4.4  37389194  https://earthquake.usgs.gov/fdsnws/event/1/que...   \n",
       "\n",
       "       dmin  felt   gap           ids   mag magType  ...  sources     status  \\\n",
       "0  0.008693   NaN  85.0  ,ci37389218,  1.35      ml  ...     ,ci,  automatic   \n",
       "1  0.020030   NaN  79.0  ,ci37389202,  1.29      ml  ...     ,ci,  automatic   \n",
       "2  0.021370  28.0  21.0  ,ci37389194,  3.42      ml  ...     ,ci,  automatic   \n",
       "\n",
       "            time                          title  tsunami        type  \\\n",
       "0  1539475168010  M 1.4 - 9km NE of Aguanga, CA        0  earthquake   \n",
       "1  1539475129610  M 1.3 - 9km NE of Aguanga, CA        0  earthquake   \n",
       "2  1539475062610  M 3.4 - 8km NE of Aguanga, CA        0  earthquake   \n",
       "\n",
       "                                               types     tz        updated  \\\n",
       "0         ,geoserve,nearby-cities,origin,phase-data, -480.0  1539475395144   \n",
       "1         ,geoserve,nearby-cities,origin,phase-data, -480.0  1539475253925   \n",
       "2  ,dyfi,focal-mechanism,geoserve,nearby-cities,o... -480.0  1539536756176   \n",
       "\n",
       "                                                 url  \n",
       "0  https://earthquake.usgs.gov/earthquakes/eventp...  \n",
       "1  https://earthquake.usgs.gov/earthquakes/eventp...  \n",
       "2  https://earthquake.usgs.gov/earthquakes/eventp...  \n",
       "\n",
       "[3 rows x 26 columns]"
      ]
     },
     "execution_count": 3,
     "metadata": {},
     "output_type": "execute_result"
    }
   ],
   "source": [
    "dataset = pd.read_csv('earthquakes.csv')\n",
    "df = dataset\n",
    "df.iloc[:3, :]\n"
   ]
  },
  {
   "cell_type": "code",
   "execution_count": 4,
   "id": "02e5b300",
   "metadata": {},
   "outputs": [
    {
     "data": {
      "text/plain": [
       "Index(['alert', 'cdi', 'code', 'detail', 'dmin', 'felt', 'gap', 'ids', 'mag',\n",
       "       'magType', 'mmi', 'net', 'nst', 'place', 'rms', 'sig', 'sources',\n",
       "       'status', 'time', 'title', 'tsunami', 'type', 'types', 'tz', 'updated',\n",
       "       'url'],\n",
       "      dtype='object')"
      ]
     },
     "execution_count": 4,
     "metadata": {},
     "output_type": "execute_result"
    }
   ],
   "source": [
    "df.columns\n"
   ]
  },
  {
   "cell_type": "code",
   "execution_count": 5,
   "id": "2a9b31fe",
   "metadata": {},
   "outputs": [
    {
     "name": "stdout",
     "output_type": "stream",
     "text": [
      "1 0\n"
     ]
    }
   ],
   "source": [
    "print(sum(df.magType.isnull()), sum(df.type.isnull()))\n"
   ]
  },
  {
   "cell_type": "code",
   "execution_count": 6,
   "id": "9d1e6efc",
   "metadata": {},
   "outputs": [
    {
     "data": {
      "text/plain": [
       "0"
      ]
     },
     "execution_count": 6,
     "metadata": {},
     "output_type": "execute_result"
    }
   ],
   "source": [
    "df.magType.fillna('None', inplace=True)\n",
    "sum(df.magType.isnull())\n"
   ]
  },
  {
   "cell_type": "code",
   "execution_count": 7,
   "id": "f2cdbcbb",
   "metadata": {},
   "outputs": [
    {
     "data": {
      "text/plain": [
       "79"
      ]
     },
     "execution_count": 7,
     "metadata": {},
     "output_type": "execute_result"
    }
   ],
   "source": [
    "# a/\n",
    "a = df[df.magType.str.contains('ml') & df.type.str.contains('explosion')]\n",
    "len(a.index)\n"
   ]
  },
  {
   "cell_type": "code",
   "execution_count": 8,
   "id": "5109a5b0",
   "metadata": {},
   "outputs": [
    {
     "data": {
      "text/html": [
       "<div>\n",
       "<style scoped>\n",
       "    .dataframe tbody tr th:only-of-type {\n",
       "        vertical-align: middle;\n",
       "    }\n",
       "\n",
       "    .dataframe tbody tr th {\n",
       "        vertical-align: top;\n",
       "    }\n",
       "\n",
       "    .dataframe thead th {\n",
       "        text-align: right;\n",
       "    }\n",
       "</style>\n",
       "<table border=\"1\" class=\"dataframe\">\n",
       "  <thead>\n",
       "    <tr style=\"text-align: right;\">\n",
       "      <th></th>\n",
       "      <th>alert</th>\n",
       "      <th>cdi</th>\n",
       "      <th>code</th>\n",
       "      <th>detail</th>\n",
       "      <th>dmin</th>\n",
       "      <th>felt</th>\n",
       "      <th>gap</th>\n",
       "      <th>ids</th>\n",
       "      <th>mag</th>\n",
       "      <th>magType</th>\n",
       "      <th>...</th>\n",
       "      <th>sources</th>\n",
       "      <th>status</th>\n",
       "      <th>time</th>\n",
       "      <th>title</th>\n",
       "      <th>tsunami</th>\n",
       "      <th>type</th>\n",
       "      <th>types</th>\n",
       "      <th>tz</th>\n",
       "      <th>updated</th>\n",
       "      <th>url</th>\n",
       "    </tr>\n",
       "  </thead>\n",
       "  <tbody>\n",
       "    <tr>\n",
       "      <th>6</th>\n",
       "      <td>NaN</td>\n",
       "      <td>NaN</td>\n",
       "      <td>20280432</td>\n",
       "      <td>https://earthquake.usgs.gov/fdsnws/event/1/que...</td>\n",
       "      <td>NaN</td>\n",
       "      <td>NaN</td>\n",
       "      <td>NaN</td>\n",
       "      <td>,ak20280432,</td>\n",
       "      <td>1.7</td>\n",
       "      <td>ml</td>\n",
       "      <td>...</td>\n",
       "      <td>,ak,</td>\n",
       "      <td>automatic</td>\n",
       "      <td>1539473176017</td>\n",
       "      <td>M 1.7 - 105km W of Talkeetna, Alaska</td>\n",
       "      <td>0</td>\n",
       "      <td>earthquake</td>\n",
       "      <td>,geoserve,origin,</td>\n",
       "      <td>-540.0</td>\n",
       "      <td>1539473596465</td>\n",
       "      <td>https://earthquake.usgs.gov/earthquakes/eventp...</td>\n",
       "    </tr>\n",
       "    <tr>\n",
       "      <th>18</th>\n",
       "      <td>NaN</td>\n",
       "      <td>NaN</td>\n",
       "      <td>20280424</td>\n",
       "      <td>https://earthquake.usgs.gov/fdsnws/event/1/que...</td>\n",
       "      <td>NaN</td>\n",
       "      <td>NaN</td>\n",
       "      <td>NaN</td>\n",
       "      <td>,ak20280424,</td>\n",
       "      <td>2.0</td>\n",
       "      <td>ml</td>\n",
       "      <td>...</td>\n",
       "      <td>,ak,</td>\n",
       "      <td>automatic</td>\n",
       "      <td>1539468687232</td>\n",
       "      <td>M 2.0 - 57km SSW of Kaktovik, Alaska</td>\n",
       "      <td>0</td>\n",
       "      <td>earthquake</td>\n",
       "      <td>,geoserve,origin,</td>\n",
       "      <td>-540.0</td>\n",
       "      <td>1539469037574</td>\n",
       "      <td>https://earthquake.usgs.gov/earthquakes/eventp...</td>\n",
       "    </tr>\n",
       "    <tr>\n",
       "      <th>21</th>\n",
       "      <td>NaN</td>\n",
       "      <td>NaN</td>\n",
       "      <td>20280421</td>\n",
       "      <td>https://earthquake.usgs.gov/fdsnws/event/1/que...</td>\n",
       "      <td>NaN</td>\n",
       "      <td>NaN</td>\n",
       "      <td>NaN</td>\n",
       "      <td>,ak20280421,</td>\n",
       "      <td>1.7</td>\n",
       "      <td>ml</td>\n",
       "      <td>...</td>\n",
       "      <td>,ak,</td>\n",
       "      <td>automatic</td>\n",
       "      <td>1539467905609</td>\n",
       "      <td>M 1.7 - 64km SSW of Salcha, Alaska</td>\n",
       "      <td>0</td>\n",
       "      <td>earthquake</td>\n",
       "      <td>,geoserve,origin,</td>\n",
       "      <td>-540.0</td>\n",
       "      <td>1539468224954</td>\n",
       "      <td>https://earthquake.usgs.gov/earthquakes/eventp...</td>\n",
       "    </tr>\n",
       "  </tbody>\n",
       "</table>\n",
       "<p>3 rows × 26 columns</p>\n",
       "</div>"
      ],
      "text/plain": [
       "   alert  cdi      code                                             detail  \\\n",
       "6    NaN  NaN  20280432  https://earthquake.usgs.gov/fdsnws/event/1/que...   \n",
       "18   NaN  NaN  20280424  https://earthquake.usgs.gov/fdsnws/event/1/que...   \n",
       "21   NaN  NaN  20280421  https://earthquake.usgs.gov/fdsnws/event/1/que...   \n",
       "\n",
       "    dmin  felt  gap           ids  mag magType  ...  sources     status  \\\n",
       "6    NaN   NaN  NaN  ,ak20280432,  1.7      ml  ...     ,ak,  automatic   \n",
       "18   NaN   NaN  NaN  ,ak20280424,  2.0      ml  ...     ,ak,  automatic   \n",
       "21   NaN   NaN  NaN  ,ak20280421,  1.7      ml  ...     ,ak,  automatic   \n",
       "\n",
       "             time                                 title  tsunami        type  \\\n",
       "6   1539473176017  M 1.7 - 105km W of Talkeetna, Alaska        0  earthquake   \n",
       "18  1539468687232  M 2.0 - 57km SSW of Kaktovik, Alaska        0  earthquake   \n",
       "21  1539467905609    M 1.7 - 64km SSW of Salcha, Alaska        0  earthquake   \n",
       "\n",
       "                types     tz        updated  \\\n",
       "6   ,geoserve,origin, -540.0  1539473596465   \n",
       "18  ,geoserve,origin, -540.0  1539469037574   \n",
       "21  ,geoserve,origin, -540.0  1539468224954   \n",
       "\n",
       "                                                  url  \n",
       "6   https://earthquake.usgs.gov/earthquakes/eventp...  \n",
       "18  https://earthquake.usgs.gov/earthquakes/eventp...  \n",
       "21  https://earthquake.usgs.gov/earthquakes/eventp...  \n",
       "\n",
       "[3 rows x 26 columns]"
      ]
     },
     "execution_count": 8,
     "metadata": {},
     "output_type": "execute_result"
    }
   ],
   "source": [
    "# b/\n",
    "import re\n",
    "b = df[df.title.str.contains('Alaska')]\n",
    "b.iloc[:3, :]\n"
   ]
  },
  {
   "cell_type": "code",
   "execution_count": 9,
   "id": "3140e6ae",
   "metadata": {},
   "outputs": [
    {
     "name": "stdout",
     "output_type": "stream",
     "text": [
      "-9\n"
     ]
    }
   ],
   "source": [
    "pattern = re.compile(r\".\\s[-]?\\d\\.\\d\\s[-]\\s[0-9]+\")  # old: r\".\\s\\d\\.\\d\\s.\\s[0-9]+\"\n",
    "text = \"M 1.1 - 9km N of North Nenana, Alaska\"  # M 1.1 - 9km N of North Nenana, Alaska M 1.7 - 105km W of Talkeetna, Alaska\n",
    "matches = pattern.findall(text)\n",
    "for match in matches:\n",
    "    print(match[-3:].replace(' ', ''))  # old: print(match[-3:].replace('-', ''))\n",
    "    "
   ]
  },
  {
   "cell_type": "code",
   "execution_count": 21,
   "id": "be5c4fd7",
   "metadata": {},
   "outputs": [
    {
     "name": "stdout",
     "output_type": "stream",
     "text": [
      "[57, 64, 43]\n",
      "the mean of mag in Alaska is:  54.12844702467344\n"
     ]
    }
   ],
   "source": [
    "pattern = re.compile(r\".\\s[-]?\\d\\.\\d\\s.\\s[0-9]+\")\n",
    "lis = []\n",
    "for i in b.title:\n",
    "    matches = pattern.findall(i)\n",
    "    for match in matches:\n",
    "        num = match[-3:].replace('-', '').strip()\n",
    "        if int(num) < 100:\n",
    "            lis.append(int(num))  # arr.append(int(num)) arr.append(num)\n",
    "            break\n",
    "print(lis[:3])\n",
    "print('the mean of mag in Alaska is: ', sum(lis) / len(lis))\n"
   ]
  },
  {
   "cell_type": "code",
   "execution_count": 11,
   "id": "b44d52b2",
   "metadata": {},
   "outputs": [],
   "source": [
    "# b.title.values\n"
   ]
  },
  {
   "cell_type": "code",
   "execution_count": 10,
   "id": "2c43d807",
   "metadata": {},
   "outputs": [
    {
     "data": {
      "text/plain": [
       "[False, True, True, False, True, True, True, True, True, True]"
      ]
     },
     "execution_count": 10,
     "metadata": {},
     "output_type": "execute_result"
    }
   ],
   "source": [
    "# this method does not work because len(boolean) != len(b) as seen in In [128] and In[129]\n",
    "\n",
    "\n",
    "# pattern = re.compile(r\".\\s[-]?\\d\\.\\d\\s.\\s[0-9]+\")\n",
    "# lis = []\n",
    "# for i in b.title:\n",
    "#     matches = pattern.findall(i)\n",
    "#     for match in matches:\n",
    "#         num = match[-3:].replace(' ', '')  # old: num = match[-3:].replace('-', '').strip()\n",
    "#         lis.append(int(num))\n",
    "#         break\n",
    "# boolean = [i < 100 for i in lis]\n",
    "# boolean[:10]\n"
   ]
  },
  {
   "cell_type": "code",
   "execution_count": 128,
   "id": "e59dce1d",
   "metadata": {},
   "outputs": [
    {
     "data": {
      "text/plain": [
       "3567"
      ]
     },
     "execution_count": 128,
     "metadata": {},
     "output_type": "execute_result"
    }
   ],
   "source": [
    "# len(boolean)"
   ]
  },
  {
   "cell_type": "code",
   "execution_count": 129,
   "id": "248c9235",
   "metadata": {},
   "outputs": [
    {
     "data": {
      "text/plain": [
       "3665"
      ]
     },
     "execution_count": 129,
     "metadata": {},
     "output_type": "execute_result"
    }
   ],
   "source": [
    "# len(b)"
   ]
  },
  {
   "cell_type": "code",
   "execution_count": 125,
   "id": "d8aaf0e9",
   "metadata": {},
   "outputs": [
    {
     "data": {
      "text/plain": [
       "3567"
      ]
     },
     "execution_count": 125,
     "metadata": {},
     "output_type": "execute_result"
    }
   ],
   "source": [
    "# len(lis)"
   ]
  },
  {
   "cell_type": "code",
   "execution_count": 20,
   "id": "3d4b16ff",
   "metadata": {},
   "outputs": [
    {
     "data": {
      "text/plain": [
       "0      2018-10-13 23:59:28.010\n",
       "1      2018-10-13 23:58:49.610\n",
       "2      2018-10-13 23:57:42.610\n",
       "3      2018-10-13 23:56:18.070\n",
       "4      2018-10-13 23:51:56.050\n",
       "                 ...          \n",
       "9327   2018-09-18 00:23:48.060\n",
       "9328   2018-09-18 00:22:15.130\n",
       "9329   2018-09-18 00:18:28.180\n",
       "9330   2018-09-18 00:12:25.350\n",
       "9331   2018-09-18 00:01:04.470\n",
       "Name: time, Length: 9332, dtype: datetime64[ns]"
      ]
     },
     "execution_count": 20,
     "metadata": {},
     "output_type": "execute_result"
    }
   ],
   "source": [
    "# c/ \n",
    "c = df\n",
    "c.time = pd.to_datetime(c.time, unit='ms')\n",
    "c.time\n"
   ]
  },
  {
   "cell_type": "code",
   "execution_count": 25,
   "id": "18bdd1d2",
   "metadata": {},
   "outputs": [
    {
     "data": {
      "text/plain": [
       "nan"
      ]
     },
     "execution_count": 25,
     "metadata": {},
     "output_type": "execute_result"
    }
   ],
   "source": [
    "c_q1 = c.mag[(pd.DatetimeIndex(c.time).month>=1)&(pd.DatetimeIndex(c.time).month<=3)].mean()\n",
    "c_q1\n"
   ]
  },
  {
   "cell_type": "code",
   "execution_count": 26,
   "id": "f6c57ba8",
   "metadata": {},
   "outputs": [
    {
     "data": {
      "text/plain": [
       "nan"
      ]
     },
     "execution_count": 26,
     "metadata": {},
     "output_type": "execute_result"
    }
   ],
   "source": [
    "c_q2 = c.mag[(pd.DatetimeIndex(c.time).month>=4)&(pd.DatetimeIndex(c.time).month<=6)].mean()\n",
    "c_q2\n"
   ]
  },
  {
   "cell_type": "code",
   "execution_count": 30,
   "id": "22be8149",
   "metadata": {},
   "outputs": [
    {
     "data": {
      "text/plain": [
       "1.466735124760082"
      ]
     },
     "execution_count": 30,
     "metadata": {},
     "output_type": "execute_result"
    }
   ],
   "source": [
    "c_q3 = c.mag[(pd.DatetimeIndex(c.time).month>=7)&(pd.DatetimeIndex(c.time).month<=9)].mean()\n",
    "c_q3\n"
   ]
  },
  {
   "cell_type": "code",
   "execution_count": 31,
   "id": "5cba11b1",
   "metadata": {},
   "outputs": [
    {
     "data": {
      "text/plain": [
       "1.5360446493569568"
      ]
     },
     "execution_count": 31,
     "metadata": {},
     "output_type": "execute_result"
    }
   ],
   "source": [
    "c_q4 = c.mag[(pd.DatetimeIndex(c.time).month>=10)&(pd.DatetimeIndex(c.time).month<=12)].mean()\n",
    "c_q4\n"
   ]
  },
  {
   "cell_type": "code",
   "execution_count": null,
   "id": "0691a077",
   "metadata": {},
   "outputs": [],
   "source": []
  }
 ],
 "metadata": {
  "kernelspec": {
   "display_name": "Python 3",
   "language": "python",
   "name": "python3"
  },
  "language_info": {
   "codemirror_mode": {
    "name": "ipython",
    "version": 3
   },
   "file_extension": ".py",
   "mimetype": "text/x-python",
   "name": "python",
   "nbconvert_exporter": "python",
   "pygments_lexer": "ipython3",
   "version": "3.8.5"
  }
 },
 "nbformat": 4,
 "nbformat_minor": 5
}
